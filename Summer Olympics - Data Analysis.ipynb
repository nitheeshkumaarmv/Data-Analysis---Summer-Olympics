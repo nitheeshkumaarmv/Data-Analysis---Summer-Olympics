{
 "cells": [
  {
   "cell_type": "markdown",
   "metadata": {
    "id": "0TCR4Fxk-bLo"
   },
   "source": [
    "# Summer Olympics - Data Analysis"
   ]
  },
  {
   "cell_type": "code",
   "execution_count": 1,
   "metadata": {
    "collapsed": true,
    "id": "YzQM3-6o-n1L"
   },
   "outputs": [],
   "source": [
    "#Importing Required Libraries\n",
    "import numpy as np\n",
    "import pandas as pd\n",
    "import matplotlib.pyplot as plt"
   ]
  },
  {
   "cell_type": "code",
   "execution_count": 2,
   "metadata": {
    "collapsed": true,
    "id": "-2mjb-zL-_rG"
   },
   "outputs": [],
   "source": [
    "#Loading the CSV file\n",
    "data = pd.read_csv(\"summer olympics.csv\")"
   ]
  },
  {
   "cell_type": "code",
   "execution_count": 3,
   "metadata": {
    "colab": {
     "base_uri": "https://localhost:8080/",
     "height": 204
    },
    "collapsed": false,
    "id": "ezKQJfSM_IrC",
    "outputId": "24349e61-4a5e-4cc8-ca7e-d7a35aa67061"
   },
   "outputs": [
    {
     "data": {
      "text/html": [
       "<div>\n",
       "<style scoped>\n",
       "    .dataframe tbody tr th:only-of-type {\n",
       "        vertical-align: middle;\n",
       "    }\n",
       "\n",
       "    .dataframe tbody tr th {\n",
       "        vertical-align: top;\n",
       "    }\n",
       "\n",
       "    .dataframe thead th {\n",
       "        text-align: right;\n",
       "    }\n",
       "</style>\n",
       "<table border=\"1\" class=\"dataframe\">\n",
       "  <thead>\n",
       "    <tr style=\"text-align: right;\">\n",
       "      <th></th>\n",
       "      <th>Year</th>\n",
       "      <th>City</th>\n",
       "      <th>Sport</th>\n",
       "      <th>Discipline</th>\n",
       "      <th>Athlete</th>\n",
       "      <th>Country</th>\n",
       "      <th>Gender</th>\n",
       "      <th>Event</th>\n",
       "      <th>Medal</th>\n",
       "    </tr>\n",
       "  </thead>\n",
       "  <tbody>\n",
       "    <tr>\n",
       "      <th>0</th>\n",
       "      <td>1896</td>\n",
       "      <td>Athens</td>\n",
       "      <td>Aquatics</td>\n",
       "      <td>Swimming</td>\n",
       "      <td>HAJOS, Alfred</td>\n",
       "      <td>HUN</td>\n",
       "      <td>Men</td>\n",
       "      <td>100M Freestyle</td>\n",
       "      <td>Gold</td>\n",
       "    </tr>\n",
       "    <tr>\n",
       "      <th>1</th>\n",
       "      <td>1896</td>\n",
       "      <td>Athens</td>\n",
       "      <td>Aquatics</td>\n",
       "      <td>Swimming</td>\n",
       "      <td>HERSCHMANN, Otto</td>\n",
       "      <td>AUT</td>\n",
       "      <td>Men</td>\n",
       "      <td>100M Freestyle</td>\n",
       "      <td>Silver</td>\n",
       "    </tr>\n",
       "    <tr>\n",
       "      <th>2</th>\n",
       "      <td>1896</td>\n",
       "      <td>Athens</td>\n",
       "      <td>Aquatics</td>\n",
       "      <td>Swimming</td>\n",
       "      <td>DRIVAS, Dimitrios</td>\n",
       "      <td>GRE</td>\n",
       "      <td>Men</td>\n",
       "      <td>100M Freestyle For Sailors</td>\n",
       "      <td>Bronze</td>\n",
       "    </tr>\n",
       "    <tr>\n",
       "      <th>3</th>\n",
       "      <td>1896</td>\n",
       "      <td>Athens</td>\n",
       "      <td>Aquatics</td>\n",
       "      <td>Swimming</td>\n",
       "      <td>MALOKINIS, Ioannis</td>\n",
       "      <td>GRE</td>\n",
       "      <td>Men</td>\n",
       "      <td>100M Freestyle For Sailors</td>\n",
       "      <td>Gold</td>\n",
       "    </tr>\n",
       "    <tr>\n",
       "      <th>4</th>\n",
       "      <td>1896</td>\n",
       "      <td>Athens</td>\n",
       "      <td>Aquatics</td>\n",
       "      <td>Swimming</td>\n",
       "      <td>CHASAPIS, Spiridon</td>\n",
       "      <td>GRE</td>\n",
       "      <td>Men</td>\n",
       "      <td>100M Freestyle For Sailors</td>\n",
       "      <td>Silver</td>\n",
       "    </tr>\n",
       "  </tbody>\n",
       "</table>\n",
       "</div>"
      ],
      "text/plain": [
       "   Year    City     Sport  ... Gender                       Event   Medal\n",
       "0  1896  Athens  Aquatics  ...    Men              100M Freestyle    Gold\n",
       "1  1896  Athens  Aquatics  ...    Men              100M Freestyle  Silver\n",
       "2  1896  Athens  Aquatics  ...    Men  100M Freestyle For Sailors  Bronze\n",
       "3  1896  Athens  Aquatics  ...    Men  100M Freestyle For Sailors    Gold\n",
       "4  1896  Athens  Aquatics  ...    Men  100M Freestyle For Sailors  Silver\n",
       "\n",
       "[5 rows x 9 columns]"
      ]
     },
     "execution_count": 3,
     "metadata": {},
     "output_type": "execute_result"
    }
   ],
   "source": [
    "data.head()"
   ]
  },
  {
   "cell_type": "markdown",
   "metadata": {
    "id": "Zzn5LNTY_Y8s"
   },
   "source": [
    "## Questions"
   ]
  },
  {
   "cell_type": "markdown",
   "metadata": {
    "id": "dlYsNhg4_l5x"
   },
   "source": [
    "### 1. In how many cities Summer Olympics is held so far?\n",
    "\n",
    "\n"
   ]
  },
  {
   "cell_type": "code",
   "execution_count": 4,
   "metadata": {
    "colab": {
     "base_uri": "https://localhost:8080/"
    },
    "collapsed": false,
    "id": "KSvQntoC_Kdn",
    "outputId": "36e4c357-fcd8-4e7c-abfc-393eaa2668b4"
   },
   "outputs": [
    {
     "name": "stdout",
     "output_type": "stream",
     "text": [
      "So far, Summer Olympics is held in 22 cities\n"
     ]
    }
   ],
   "source": [
    "city_count = len(data[\"City\"].unique()) #This tells the no. of cities, where summer olympics held\n",
    "print(\"So far, Summer Olympics is held in\",city_count,\"cities\")"
   ]
  },
  {
   "cell_type": "markdown",
   "metadata": {
    "id": "dtR4LQSRHsBF"
   },
   "source": [
    "### 2. Which sport is having most number of Gold Medals so far? (Top 5)"
   ]
  },
  {
   "cell_type": "code",
   "execution_count": 43,
   "metadata": {
    "colab": {
     "base_uri": "https://localhost:8080/",
     "height": 399
    },
    "collapsed": false,
    "id": "EO_Kc1iioXAc",
    "outputId": "f3886cff-246a-4d03-9ffa-e8559ff7ee85"
   },
   "outputs": [
    {
     "data": {
      "text/plain": [
       "<matplotlib.axes._subplots.AxesSubplot at 0x7f4df260fd10>"
      ]
     },
     "execution_count": 43,
     "metadata": {},
     "output_type": "execute_result"
    },
    {
     "data": {
      "image/png": "[encoded data removed]",
      "text/plain": [
       "<Figure size 576x360 with 1 Axes>"
      ]
     },
     "metadata": {
      "needs_background": "light"
     },
     "output_type": "display_data"
    }
   ],
   "source": [
    "gold_medals = data[data[\"Medal\"] == \"Gold\"] #Isolating rows with Gold Medal into a new series\n",
    "\n",
    "sport_list = [] #List to hold no. of gold medals in each unique sport\n",
    "\n",
    "for sport in gold_medals['Sport'].unique():\n",
    "  sport_list.append([sport, len(gold_medals[gold_medals['Sport'] == sport])])\n",
    "\n",
    "top5_sports = pd.DataFrame(data = sport_list, columns = [\"Sport\",\"Freq\"]).sort_values(by=\"Freq\",ascending = False).head()\n",
    "top5_sports.plot(x = \"Sport\", y = \"Freq\", kind = \"bar\", figsize=(8,5))"
   ]
  },
  {
   "cell_type": "markdown",
   "metadata": {
    "id": "Ejnh-MxOx-qZ"
   },
   "source": [
    "### 3. Which sport is having most number of medals so far? (Top 5)"
   ]
  },
  {
   "cell_type": "code",
   "execution_count": 50,
   "metadata": {
    "colab": {
     "base_uri": "https://localhost:8080/",
     "height": 331
    },
    "collapsed": false,
    "id": "8o5LrRVFpvdt",
    "outputId": "adaae499-13bd-4e99-f6e8-5d95b179c161"
   },
   "outputs": [
    {
     "data": {
      "text/plain": [
       "<matplotlib.axes._subplots.AxesSubplot at 0x7f4df247b310>"
      ]
     },
     "execution_count": 50,
     "metadata": {},
     "output_type": "execute_result"
    },
    {
     "data": {
      "image/png": "[encoded data removed]",
      "text/plain": [
       "<Figure size 432x288 with 1 Axes>"
      ]
     },
     "metadata": {
      "needs_background": "light"
     },
     "output_type": "display_data"
    }
   ],
   "source": [
    "data[\"Sport\"].value_counts().head().plot(kind=\"bar\")"
   ]
  },
  {
   "cell_type": "markdown",
   "metadata": {
    "id": "QX2Ubr711xJA"
   },
   "source": [
    "### 4. Which player has won most number of medals? (Top 5)"
   ]
  },
  {
   "cell_type": "code",
   "execution_count": 51,
   "metadata": {
    "colab": {
     "base_uri": "https://localhost:8080/",
     "height": 390
    },
    "collapsed": false,
    "id": "FHlvNUXx100D",
    "outputId": "f190f549-cbd7-459f-a259-710b66fa0d9f"
   },
   "outputs": [
    {
     "data": {
      "text/plain": [
       "<matplotlib.axes._subplots.AxesSubplot at 0x7f4df2394c50>"
      ]
     },
     "execution_count": 51,
     "metadata": {},
     "output_type": "execute_result"
    },
    {
     "data": {
      "image/png": "[encoded data removed]",
      "text/plain": [
       "<Figure size 432x288 with 1 Axes>"
      ]
     },
     "metadata": {
      "needs_background": "light"
     },
     "output_type": "display_data"
    }
   ],
   "source": [
    "data[\"Athlete\"].value_counts().head().plot(kind=\"bar\")"
   ]
  },
  {
   "cell_type": "markdown",
   "metadata": {
    "id": "q3ZBhoOq13sS"
   },
   "source": [
    "### 5. Which player has won most number Gold Medals of medals? (Top 5)"
   ]
  },
  {
   "cell_type": "code",
   "execution_count": 74,
   "metadata": {
    "colab": {
     "base_uri": "https://localhost:8080/",
     "height": 357
    },
    "collapsed": false,
    "id": "5P0kr6O67S9j",
    "outputId": "eafef749-cdb1-4709-9eea-df2602dfa932"
   },
   "outputs": [
    {
     "data": {
      "text/plain": [
       "<matplotlib.axes._subplots.AxesSubplot at 0x7f4df1df1250>"
      ]
     },
     "execution_count": 74,
     "metadata": {},
     "output_type": "execute_result"
    },
    {
     "data": {
      "image/png": "[encoded data removed]",
      "text/plain": [
       "<Figure size 432x288 with 1 Axes>"
      ]
     },
     "metadata": {
      "needs_background": "light"
     },
     "output_type": "display_data"
    }
   ],
   "source": [
    "gold_medals = data[data[\"Medal\"] == \"Gold\"]\n",
    "gold_medals['Athlete'].value_counts().head().plot(kind=\"bar\")"
   ]
  },
  {
   "cell_type": "markdown",
   "metadata": {
    "id": "1skZssfD17xa"
   },
   "source": [
    "### 6. In which year India won first Gold Medal in Summer Olympics?"
   ]
  },
  {
   "cell_type": "code",
   "execution_count": 4,
   "metadata": {
    "colab": {
     "base_uri": "https://localhost:8080/"
    },
    "collapsed": false,
    "id": "pqgdu2Yt1-WQ",
    "outputId": "2a2b3139-e6fe-4dbc-8ce2-bbe2bbe70af0"
   },
   "outputs": [
    {
     "name": "stdout",
     "output_type": "stream",
     "text": [
      "In Summer Olympics, India won first Gold Medal in the year 1928\n"
     ]
    }
   ],
   "source": [
    "gold_medals = data[data[\"Medal\"] == \"Gold\"]\n",
    "IND_gold_medals = gold_medals[gold_medals['Country'] == \"IND\"] #Isolating rows with India in Country column\n",
    "\n",
    "Year_list = IND_gold_medals[\"Year\"].unique()\n",
    "First_Year = Year_list[0] #0th index will hold the year of first Gold Medal won by India\n",
    "\n",
    "print(\"In Summer Olympics, India won first Gold Medal in the year\",First_Year)"
   ]
  },
  {
   "cell_type": "markdown",
   "metadata": {
    "id": "E0lXMgO71_QO"
   },
   "source": [
    "### 7. Which event is most popular in terms on number of players? (Top 5)"
   ]
  },
  {
   "cell_type": "code",
   "execution_count": 89,
   "metadata": {
    "colab": {
     "base_uri": "https://localhost:8080/",
     "height": 362
    },
    "collapsed": false,
    "id": "AWp3a-i22B2A",
    "outputId": "d2834ead-063c-4a6d-b9c8-064ac4289847"
   },
   "outputs": [
    {
     "data": {
      "text/plain": [
       "<matplotlib.axes._subplots.AxesSubplot at 0x7f4df1c41790>"
      ]
     },
     "execution_count": 89,
     "metadata": {},
     "output_type": "execute_result"
    },
    {
     "data": {
      "image/png": "[encoded data removed]",
      "text/plain": [
       "<Figure size 432x288 with 1 Axes>"
      ]
     },
     "metadata": {
      "needs_background": "light"
     },
     "output_type": "display_data"
    }
   ],
   "source": [
    "data[\"Event\"].value_counts().head().plot(kind=\"bar\")"
   ]
  },
  {
   "cell_type": "markdown",
   "metadata": {
    "id": "jKl7qiQ32Ckm"
   },
   "source": [
    "### 8. Which sport is having most female Gold Medalists? (Top 5)"
   ]
  },
  {
   "cell_type": "code",
   "execution_count": 86,
   "metadata": {
    "colab": {
     "base_uri": "https://localhost:8080/",
     "height": 331
    },
    "collapsed": false,
    "id": "6NCMH12S2E8y",
    "outputId": "12f26670-528a-4047-d227-981eb76c6a74"
   },
   "outputs": [
    {
     "data": {
      "text/plain": [
       "<matplotlib.axes._subplots.AxesSubplot at 0x7f4df1cb8a50>"
      ]
     },
     "execution_count": 86,
     "metadata": {},
     "output_type": "execute_result"
    },
    {
     "data": {
      "image/png": "[encoded data removed]",
      "text/plain": [
       "<Figure size 432x288 with 1 Axes>"
      ]
     },
     "metadata": {
      "needs_background": "light"
     },
     "output_type": "display_data"
    }
   ],
   "source": [
    "female_players = data[data[\"Gender\"] == \"Women\"] #Isolating rows with Women in Gender column\n",
    "female_gold_medalists = female_players[female_players[\"Medal\"] == \"Gold\"] #Isolating Gold Medalists in female_players series\n",
    "\n",
    "female_gold_medalists[\"Sport\"].value_counts().head().plot(kind=\"bar\")"
   ]
  },
  {
   "cell_type": "markdown",
   "metadata": {
    "id": "2_zK0iPI-4Pr"
   },
   "source": [
    "By: Nitheesh Kumaar M V"
   ]
  }
 ],
 "metadata": {
  "colab": {
   "collapsed_sections": [],
   "name": "Summer Olympics - Data Analysis.ipynb",
   "provenance": []
  },
  "kernelspec": {
   "display_name": "Python 3",
   "language": "python",
   "name": "python3"
  },
  "language_info": {
   "codemirror_mode": {
    "name": "ipython",
    "version": 3
   },
   "file_extension": ".py",
   "mimetype": "text/x-python",
   "name": "python",
   "nbconvert_exporter": "python",
   "pygments_lexer": "ipython3",
   "version": "3.5.1"
  }
 },
 "nbformat": 4,
 "nbformat_minor": 0
}
